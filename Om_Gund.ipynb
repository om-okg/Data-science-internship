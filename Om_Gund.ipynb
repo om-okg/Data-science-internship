{
  "nbformat": 4,
  "nbformat_minor": 0,
  "metadata": {
    "colab": {
      "provenance": []
    },
    "kernelspec": {
      "name": "python3",
      "display_name": "Python 3"
    },
    "language_info": {
      "name": "python"
    }
  },
  "cells": [
    {
      "cell_type": "markdown",
      "source": [
        "# **Importing necessary libraries.**\n",
        "\n",
        "---\n",
        "\n"
      ],
      "metadata": {
        "id": "ErlQrV_khfHW"
      }
    },
    {
      "cell_type": "code",
      "execution_count": 1,
      "metadata": {
        "id": "1u9hYNQ1KjXY"
      },
      "outputs": [],
      "source": [
        "import numpy as np\n",
        "import pandas as pd"
      ]
    },
    {
      "cell_type": "markdown",
      "source": [
        "# Loading datasets using pandas"
      ],
      "metadata": {
        "id": "8HzDuiDwLpjx"
      }
    },
    {
      "cell_type": "code",
      "source": [
        "df_movies = pd.read_csv('/content/movies.csv')\n",
        "df_links = pd.read_csv('/content/links.csv')\n",
        "df_rate = pd.read_csv('/content/ratings.csv')\n",
        "df_tags = pd.read_csv('/content/tags.csv')"
      ],
      "metadata": {
        "id": "cES4wUPpLYiV"
      },
      "execution_count": 2,
      "outputs": []
    },
    {
      "cell_type": "markdown",
      "source": [
        "# What is the shape of \"movies.csv\"?"
      ],
      "metadata": {
        "id": "jV1VF7eDhyqS"
      }
    },
    {
      "cell_type": "code",
      "source": [
        "df_movies.shape"
      ],
      "metadata": {
        "colab": {
          "base_uri": "https://localhost:8080/"
        },
        "id": "SHiN6LNMLqfD",
        "outputId": "7fa5109c-352f-4df2-c68f-bc8c77a45710"
      },
      "execution_count": 4,
      "outputs": [
        {
          "output_type": "execute_result",
          "data": {
            "text/plain": [
              "(9742, 3)"
            ]
          },
          "metadata": {},
          "execution_count": 4
        }
      ]
    },
    {
      "cell_type": "markdown",
      "source": [
        "# What is the shape of \"ratings.csv\"?"
      ],
      "metadata": {
        "id": "PvtnsiRwh3bk"
      }
    },
    {
      "cell_type": "code",
      "source": [
        "df_rate.shape"
      ],
      "metadata": {
        "colab": {
          "base_uri": "https://localhost:8080/"
        },
        "id": "VPBarVp6Ls8T",
        "outputId": "0bbbe0e0-a0a9-4368-b76d-a8be3bda5f72"
      },
      "execution_count": 5,
      "outputs": [
        {
          "output_type": "execute_result",
          "data": {
            "text/plain": [
              "(100836, 4)"
            ]
          },
          "metadata": {},
          "execution_count": 5
        }
      ]
    },
    {
      "cell_type": "markdown",
      "source": [
        "# How many unique \"userId\" are available in \"ratings.csv\"?\n"
      ],
      "metadata": {
        "id": "Z9LwjA2rh91J"
      }
    },
    {
      "cell_type": "code",
      "source": [
        "n = len(pd.unique(df_rate['userId']))"
      ],
      "metadata": {
        "id": "9_NfvMi1M0bE"
      },
      "execution_count": 7,
      "outputs": []
    },
    {
      "cell_type": "code",
      "source": [
        "n"
      ],
      "metadata": {
        "colab": {
          "base_uri": "https://localhost:8080/"
        },
        "id": "0nmA3vyINDRF",
        "outputId": "520df0b0-573b-4fea-b9e6-33544bb50d11"
      },
      "execution_count": 8,
      "outputs": [
        {
          "output_type": "execute_result",
          "data": {
            "text/plain": [
              "610"
            ]
          },
          "metadata": {},
          "execution_count": 8
        }
      ]
    },
    {
      "cell_type": "code",
      "source": [
        "df_rate.userId.nunique()"
      ],
      "metadata": {
        "colab": {
          "base_uri": "https://localhost:8080/"
        },
        "id": "gScMxLfbNH9h",
        "outputId": "26a3fb05-8942-40fc-da3e-e04d72f9a792"
      },
      "execution_count": 9,
      "outputs": [
        {
          "output_type": "execute_result",
          "data": {
            "text/plain": [
              "610"
            ]
          },
          "metadata": {},
          "execution_count": 9
        }
      ]
    },
    {
      "cell_type": "code",
      "source": [
        "df_rate['rating'].value_counts()"
      ],
      "metadata": {
        "colab": {
          "base_uri": "https://localhost:8080/"
        },
        "id": "hFoiZvM6NVVY",
        "outputId": "b942bfec-c103-426e-84d8-2ef520e3495a"
      },
      "execution_count": 10,
      "outputs": [
        {
          "output_type": "execute_result",
          "data": {
            "text/plain": [
              "rating\n",
              "4.0    26818\n",
              "3.0    20047\n",
              "5.0    13211\n",
              "3.5    13136\n",
              "4.5     8551\n",
              "2.0     7551\n",
              "2.5     5550\n",
              "1.0     2811\n",
              "1.5     1791\n",
              "0.5     1370\n",
              "Name: count, dtype: int64"
            ]
          },
          "metadata": {},
          "execution_count": 10
        }
      ]
    },
    {
      "cell_type": "markdown",
      "source": [
        "# Which movie has recieved maximum number of user ratings?\n"
      ],
      "metadata": {
        "id": "UMPC_nx3iE-2"
      }
    },
    {
      "cell_type": "code",
      "source": [
        "movie_ratings_count = df_rate.groupby('movieId')['userId'].count()\n",
        "most_rated_movie_id = movie_ratings_count.idxmax()\n",
        "print(f'{most_rated_movie_id=}')"
      ],
      "metadata": {
        "colab": {
          "base_uri": "https://localhost:8080/"
        },
        "id": "vF5IFwgKN_uK",
        "outputId": "59e69759-e69d-44c6-b515-004d3fcfabf4"
      },
      "execution_count": 13,
      "outputs": [
        {
          "output_type": "stream",
          "name": "stdout",
          "text": [
            "most_rated_movie_id=356\n"
          ]
        }
      ]
    },
    {
      "cell_type": "markdown",
      "source": [
        "# Select all the correct tags submitted by users to \"Matrix, The (1999)\" movie"
      ],
      "metadata": {
        "id": "9CeqZHY3iLPD"
      }
    },
    {
      "cell_type": "code",
      "source": [
        "matrix_id = df_movies[df_movies['title'] == 'Matrix, The (1999)']['movieId'].iloc[0]\n",
        "\n",
        "matrix_tags = df_tags[df_tags['movieId'] == matrix_id]['tag']\n",
        "\n",
        "\n",
        "print(f'{matrix_tags=}')"
      ],
      "metadata": {
        "colab": {
          "base_uri": "https://localhost:8080/"
        },
        "id": "TGwEvI26OWhj",
        "outputId": "95a719a4-2e08-43ae-8508-bf80843dd5f6"
      },
      "execution_count": 17,
      "outputs": [
        {
          "output_type": "stream",
          "name": "stdout",
          "text": [
            "matrix_tags=815           martial arts\n",
            "816                 sci-fi\n",
            "1646    alternate universe\n",
            "2794            philosophy\n",
            "2795      post apocalyptic\n",
            "Name: tag, dtype: object\n"
          ]
        }
      ]
    },
    {
      "cell_type": "markdown",
      "source": [
        "# What is the average user rating for movie named \"Terminator 2: Judgment Day (1991)"
      ],
      "metadata": {
        "id": "OUlGXkodiPKK"
      }
    },
    {
      "cell_type": "code",
      "source": [
        "movie_id = df_movies.loc[df_movies['title'] == 'Terminator 2: Judgment Day (1991)', 'movieId'].iloc[0]\n",
        "avg_rating = df_rate.loc[df_rate['movieId'] == movie_id, 'rating'].mean()\n",
        "print(f'{avg_rating=}')"
      ],
      "metadata": {
        "colab": {
          "base_uri": "https://localhost:8080/"
        },
        "id": "lV0xXeTyOeT0",
        "outputId": "b2801b83-4807-4ef6-9076-e7adb1c88138"
      },
      "execution_count": 18,
      "outputs": [
        {
          "output_type": "stream",
          "name": "stdout",
          "text": [
            "avg_rating=3.970982142857143\n"
          ]
        }
      ]
    },
    {
      "cell_type": "markdown",
      "source": [
        "# How does the data distribution of user ratings for \"Fight Club (1999)\" movie looks like"
      ],
      "metadata": {
        "id": "lL_If7KFiR3b"
      }
    },
    {
      "cell_type": "code",
      "source": [
        "fight_club_ratings = df_rate[df_rate['movieId'] == df_movies[df_movies['title'] == 'Fight Club (1999)']['movieId'].iloc[0]]['rating']\n",
        "fight_club_ratings.hist()"
      ],
      "metadata": {
        "colab": {
          "base_uri": "https://localhost:8080/",
          "height": 447
        },
        "id": "y8zmBiYOOnTz",
        "outputId": "7e2f0da8-5673-4791-f5f4-e5c9fb437e5b"
      },
      "execution_count": 19,
      "outputs": [
        {
          "output_type": "execute_result",
          "data": {
            "text/plain": [
              "<Axes: >"
            ]
          },
          "metadata": {},
          "execution_count": 19
        },
        {
          "output_type": "display_data",
          "data": {
            "text/plain": [
              "<Figure size 640x480 with 1 Axes>"
            ],
            "image/png": "[encoded data removed]"
          },
          "metadata": {}
        }
      ]
    },
    {
      "cell_type": "markdown",
      "source": [
        "Mandatory Operations:\n",
        "1. Group the user ratings based on movieId and apply aggregation operations like count and mean on ratings.\n",
        "2. Apply inner join on dataframe created from movies.csv and the grouped df from step 1.\n",
        "3. Filter only those movies which have more than 50 user ratings (i.e. > 50)"
      ],
      "metadata": {
        "id": "UDSm5YPGiYTy"
      }
    },
    {
      "source": [
        "rating_stats = df_rate.groupby('movieId')['rating'].agg(['count', 'mean'])\n",
        "print(f'{rating_stats=}')"
      ],
      "cell_type": "code",
      "metadata": {
        "colab": {
          "base_uri": "https://localhost:8080/"
        },
        "id": "L8oxy25xPAfr",
        "outputId": "a6c09753-b41f-48d5-dab2-2da78aaa2976"
      },
      "execution_count": 20,
      "outputs": [
        {
          "output_type": "stream",
          "name": "stdout",
          "text": [
            "rating_stats=         count      mean\n",
            "movieId                 \n",
            "1          215  3.920930\n",
            "2          110  3.431818\n",
            "3           52  3.259615\n",
            "4            7  2.357143\n",
            "5           49  3.071429\n",
            "...        ...       ...\n",
            "193581       1  4.000000\n",
            "193583       1  3.500000\n",
            "193585       1  3.500000\n",
            "193587       1  3.500000\n",
            "193609       1  4.000000\n",
            "\n",
            "[9724 rows x 2 columns]\n"
          ]
        }
      ]
    },
    {
      "source": [
        "rating_stats = rating_stats.rename(columns={'count': 'rating_count'})\n",
        "movie_stats = df_movies.join(rating_stats, on='movieId', how='inner')\n",
        "print(f'{movie_stats=}')"
      ],
      "cell_type": "code",
      "metadata": {
        "colab": {
          "base_uri": "https://localhost:8080/"
        },
        "id": "G1YqgCa7PGp0",
        "outputId": "645a5bd5-ea4d-44b1-d589-76111fab87a3"
      },
      "execution_count": 21,
      "outputs": [
        {
          "output_type": "stream",
          "name": "stdout",
          "text": [
            "movie_stats=      movieId                                      title  \\\n",
            "0           1                           Toy Story (1995)   \n",
            "1           2                             Jumanji (1995)   \n",
            "2           3                    Grumpier Old Men (1995)   \n",
            "3           4                   Waiting to Exhale (1995)   \n",
            "4           5         Father of the Bride Part II (1995)   \n",
            "...       ...                                        ...   \n",
            "9737   193581  Black Butler: Book of the Atlantic (2017)   \n",
            "9738   193583               No Game No Life: Zero (2017)   \n",
            "9739   193585                               Flint (2017)   \n",
            "9740   193587        Bungo Stray Dogs: Dead Apple (2018)   \n",
            "9741   193609        Andrew Dice Clay: Dice Rules (1991)   \n",
            "\n",
            "                                           genres  rating_count      mean  \n",
            "0     Adventure|Animation|Children|Comedy|Fantasy           215  3.920930  \n",
            "1                      Adventure|Children|Fantasy           110  3.431818  \n",
            "2                                  Comedy|Romance            52  3.259615  \n",
            "3                            Comedy|Drama|Romance             7  2.357143  \n",
            "4                                          Comedy            49  3.071429  \n",
            "...                                           ...           ...       ...  \n",
            "9737              Action|Animation|Comedy|Fantasy             1  4.000000  \n",
            "9738                     Animation|Comedy|Fantasy             1  3.500000  \n",
            "9739                                        Drama             1  3.500000  \n",
            "9740                             Action|Animation             1  3.500000  \n",
            "9741                                       Comedy             1  4.000000  \n",
            "\n",
            "[9724 rows x 5 columns]\n"
          ]
        }
      ]
    },
    {
      "source": [
        "filtered_movies = movie_stats[movie_stats['rating_count'] > 50]\n",
        "print(f'{filtered_movies=}')"
      ],
      "cell_type": "code",
      "metadata": {
        "colab": {
          "base_uri": "https://localhost:8080/"
        },
        "id": "q8nHaWaQPKn_",
        "outputId": "997ee48d-7be1-4e57-f991-cd2d0086d062"
      },
      "execution_count": 22,
      "outputs": [
        {
          "output_type": "stream",
          "name": "stdout",
          "text": [
            "filtered_movies=      movieId                             title  \\\n",
            "0           1                  Toy Story (1995)   \n",
            "1           2                    Jumanji (1995)   \n",
            "2           3           Grumpier Old Men (1995)   \n",
            "5           6                       Heat (1995)   \n",
            "6           7                    Sabrina (1995)   \n",
            "...       ...                               ...   \n",
            "8305   106782   Wolf of Wall Street, The (2013)   \n",
            "8372   109374  Grand Budapest Hotel, The (2014)   \n",
            "8376   109487               Interstellar (2014)   \n",
            "8475   112852    Guardians of the Galaxy (2014)   \n",
            "8691   122904                   Deadpool (2016)   \n",
            "\n",
            "                                           genres  rating_count      mean  \n",
            "0     Adventure|Animation|Children|Comedy|Fantasy           215  3.920930  \n",
            "1                      Adventure|Children|Fantasy           110  3.431818  \n",
            "2                                  Comedy|Romance            52  3.259615  \n",
            "5                           Action|Crime|Thriller           102  3.946078  \n",
            "6                                  Comedy|Romance            54  3.185185  \n",
            "...                                           ...           ...       ...  \n",
            "8305                           Comedy|Crime|Drama            54  3.916667  \n",
            "8372                                 Comedy|Drama            52  3.778846  \n",
            "8376                                  Sci-Fi|IMAX            73  3.993151  \n",
            "8475                      Action|Adventure|Sci-Fi            59  4.050847  \n",
            "8691               Action|Adventure|Comedy|Sci-Fi            54  3.833333  \n",
            "\n",
            "[436 rows x 5 columns]\n"
          ]
        }
      ]
    },
    {
      "cell_type": "markdown",
      "source": [
        "# Which movie is the most popular based on  average user ratings"
      ],
      "metadata": {
        "id": "0iro7tJkibgC"
      }
    },
    {
      "cell_type": "code",
      "source": [
        "popular_movie = movie_stats[movie_stats['rating_count'] > 50].sort_values('mean', ascending=False).iloc[0]['title']\n",
        "print(f'{popular_movie=}')"
      ],
      "metadata": {
        "colab": {
          "base_uri": "https://localhost:8080/"
        },
        "id": "3f1DK6h6PK-V",
        "outputId": "e82bb3c6-7adc-4340-d837-169f2f5b9849"
      },
      "execution_count": 23,
      "outputs": [
        {
          "output_type": "stream",
          "name": "stdout",
          "text": [
            "popular_movie='Shawshank Redemption, The (1994)'\n"
          ]
        }
      ]
    },
    {
      "cell_type": "markdown",
      "source": [
        "# Select all the correct options which comes under top 5 popular movies based on number of user ratings"
      ],
      "metadata": {
        "id": "SuEBrQKpifg8"
      }
    },
    {
      "cell_type": "code",
      "source": [
        "top_5_movies = movie_stats.sort_values('rating_count', ascending=False).head(5)['title'].tolist()\n",
        "print(f'{top_5_movies=}')"
      ],
      "metadata": {
        "colab": {
          "base_uri": "https://localhost:8080/"
        },
        "id": "qYh72URtPSVG",
        "outputId": "6de5fbce-0d9b-41d4-e033-6e6b7daf9850"
      },
      "execution_count": 24,
      "outputs": [
        {
          "output_type": "stream",
          "name": "stdout",
          "text": [
            "top_5_movies=['Forrest Gump (1994)', 'Shawshank Redemption, The (1994)', 'Pulp Fiction (1994)', 'Silence of the Lambs, The (1991)', 'Matrix, The (1999)']\n"
          ]
        }
      ]
    },
    {
      "cell_type": "markdown",
      "source": [
        "# Which Sci-Fi movie is \"third most popular\" based on the number of user ratings"
      ],
      "metadata": {
        "id": "0VqBoRSwiiYR"
      }
    },
    {
      "cell_type": "code",
      "source": [
        "scifi_movies = movie_stats[movie_stats['genres'].str.contains('Sci-Fi')]\n",
        "third_popular = scifi_movies.sort_values('rating_count', ascending=False).iloc[2]['title']\n",
        "print(f'{third_popular=}')"
      ],
      "metadata": {
        "colab": {
          "base_uri": "https://localhost:8080/"
        },
        "id": "SkC1I-VjPYV7",
        "outputId": "1213bc91-871a-48f2-d43f-1480a63402d4"
      },
      "execution_count": 25,
      "outputs": [
        {
          "output_type": "stream",
          "name": "stdout",
          "text": [
            "third_popular='Jurassic Park (1993)'\n"
          ]
        }
      ]
    },
    {
      "cell_type": "markdown",
      "source": [
        "# Mention the movieId of the movie which has the highest IMDB rating"
      ],
      "metadata": {
        "id": "G_1e2XKMiiwQ"
      }
    },
    {
      "cell_type": "code",
      "source": [
        "highest_rated_movie_id = movie_stats.loc[movie_stats['mean'].idxmax(), 'movieId']\n",
        "print(f'{highest_rated_movie_id=}')"
      ],
      "metadata": {
        "id": "RfPpP_O3PqGW",
        "colab": {
          "base_uri": "https://localhost:8080/"
        },
        "outputId": "ec7d3218-88d6-466f-a87e-e830e073532e"
      },
      "execution_count": 26,
      "outputs": [
        {
          "output_type": "stream",
          "name": "stdout",
          "text": [
            "highest_rated_movie_id=53\n"
          ]
        }
      ]
    },
    {
      "cell_type": "markdown",
      "source": [
        "# Mention the movieId of the \"Sci-Fi\" movie which has the highest IMDB rating"
      ],
      "metadata": {
        "id": "z7TrJ3jpijUB"
      }
    },
    {
      "cell_type": "code",
      "source": [
        "highest_rated_scifi_movie_id = scifi_movies.loc[scifi_movies['mean'].idxmax(), 'movieId']\n",
        "print(f'{highest_rated_scifi_movie_id=}')"
      ],
      "metadata": {
        "colab": {
          "base_uri": "https://localhost:8080/"
        },
        "id": "zDxCNCiFhLDx",
        "outputId": "454f7b91-5a11-4a4a-deb6-369bc89b051a"
      },
      "execution_count": 27,
      "outputs": [
        {
          "output_type": "stream",
          "name": "stdout",
          "text": [
            "highest_rated_scifi_movie_id=3687\n"
          ]
        }
      ]
    },
    {
      "cell_type": "code",
      "source": [],
      "metadata": {
        "id": "EjMpST0fhRU9"
      },
      "execution_count": null,
      "outputs": []
    }
  ]
}